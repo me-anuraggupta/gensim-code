{
 "cells": [
  {
   "attachments": {},
   "cell_type": "markdown",
   "metadata": {},
   "source": [
    "As per gensim documentation , some important concepts in gensim documentation are:-\n",
    "- Corpus:- A corpus is simply a collection of digital documents. During training of a “model”, we can use a corpus. Further this training is unsupervised.\n",
    "- Vector Space Model for Documents (VSM):- We have earlier explained VSM. In gensim, a VSM for a document is the “features” it contains. So the number of “features” that a document has are the number of “dimensions” of the vector space for the document.\n",
    "- Sparse vector representation:- The concept of vector has already been explained. A concept which needs explaination is representation of a “sparse vector”. So there are 2 questions ie What is a sparse vector? And how to represent it?. These questions are best answered by example. Suppose a document has 10 features (with feature id 0 to 9) and is represented by a vector A ⃗  = (0, 0, 0, 0, .3, .4, 0, 0, 0, .3). This is a vector of 10 dimensions but only 3 of the 10 dimensions have a non-zero entry. The other 7 are 0. So the vector is “sparsely populated”. So we may represent the vector as ((4, 0.3), (5, 0.4), (9, 0.3)). So we have the index of the non zero feature and the value of the non zero feature. \n",
    "- Model:- A model can be thought of as a transformation from one vector space to another. For example, if we convert a dictionary of say 10,000 words to a vector space with say 300 features, then the exact method by which we do this is our model.\n",
    "\n",
    "The layout of the gensim library.\n",
    "The entire gensim library source code is available on your local machine and you can have a look at it. On my computer it is here . If you don’t know the path to the gensim library, then on jupyter notebook you can always give the command ?gensim as shown below\n",
    "\n",
    "\n",
    "\n",
    "![Gensim Layout](images-for-jupyter-notebook/gensim_library_layout.png)"
   ]
  }
 ],
 "metadata": {
  "kernelspec": {
   "display_name": "Python 3",
   "language": "python",
   "name": "python3"
  },
  "language_info": {
   "codemirror_mode": {
    "name": "ipython",
    "version": 3
   },
   "file_extension": ".py",
   "mimetype": "text/x-python",
   "name": "python",
   "nbconvert_exporter": "python",
   "pygments_lexer": "ipython3",
   "version": "3.6.3"
  }
 },
 "nbformat": 4,
 "nbformat_minor": 2
}
